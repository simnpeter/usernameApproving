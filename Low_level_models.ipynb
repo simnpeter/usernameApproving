{
  "nbformat": 4,
  "nbformat_minor": 0,
  "metadata": {
    "colab": {
      "provenance": [],
      "authorship_tag": "ABX9TyP69qmRWWgbq/UQfVnRo5JA",
      "include_colab_link": true
    },
    "kernelspec": {
      "name": "python3",
      "display_name": "Python 3"
    },
    "language_info": {
      "name": "python"
    }
  },
  "cells": [
    {
      "cell_type": "markdown",
      "metadata": {
        "id": "view-in-github",
        "colab_type": "text"
      },
      "source": [
        "<a href=\"https://colab.research.google.com/github/simnpeter/usernameApproving/blob/main/Low_level_models.ipynb\" target=\"_parent\"><img src=\"https://colab.research.google.com/assets/colab-badge.svg\" alt=\"Open In Colab\"/></a>"
      ]
    },
    {
      "cell_type": "code",
      "execution_count": null,
      "metadata": {
        "colab": {
          "base_uri": "https://localhost:8080/"
        },
        "id": "ZAP1_K0MxnOE",
        "outputId": "6d1598e9-5c1c-4549-c819-852310c02eae"
      },
      "outputs": [
        {
          "output_type": "stream",
          "name": "stdout",
          "text": [
            "Mounted at /content/drive\n"
          ]
        }
      ],
      "source": [
        "from sklearn.model_selection import train_test_split\n",
        "from sklearn.ensemble import RandomForestClassifier\n",
        "from sklearn.metrics import accuracy_score\n",
        "from sklearn.model_selection import GridSearchCV\n",
        "from sklearn.neural_network import MLPClassifier\n",
        "from sklearn.svm import SVC\n",
        "from sklearn.feature_extraction.text import CountVectorizer\n",
        "import pandas as pd\n",
        "import pickle\n",
        "from google.colab import drive\n",
        "drive.mount('/content/drive')"
      ]
    },
    {
      "cell_type": "code",
      "source": [
        "path='/content/drive/My Drive/Colab Notebooks/dataset.csv'\n",
        "\n",
        "def custom_parser(line):\n",
        "    parts = line.split(\";\")  # Felosztjuk a sort pontosvessző mentén\n",
        "    # Az első elem az összes többi elem\n",
        "    username = parts[0] if len(parts) == 1 else \";\".join(parts[:-1])\n",
        "    label = int(parts[-1])  # Utolsó elem a címke, ami számmá konvertálható\n",
        "    return username, label\n",
        "\n",
        "data = []\n",
        "with open(path, \"r\") as file:\n",
        "  for line in file:\n",
        "        username, label = custom_parser(line.strip())\n",
        "        data.append((username, label))\n",
        "\n",
        "        # Az adatok pandas DataFrame-be helyezése\n",
        "df = pd.DataFrame(data, columns=[\"Username\", \"Label\"])\n",
        "\n",
        "label_counts = df['Label'].value_counts()\n",
        "\n",
        "grouped = df.groupby('Label')\n",
        "\n",
        "balanced_df = grouped.apply(lambda x: x.sample(n=label_counts.min()))\n",
        "\n",
        "balanced_df = balanced_df.reset_index(drop=True)\n",
        "\n",
        "# 2. Felosztás X és y változókra\n",
        "X = df['Username']\n",
        "y = df['Label']\n",
        "\n",
        "X_balanced = balanced_df['Username']\n",
        "y_balanced = balanced_df['Label']\n",
        "\n",
        "\n",
        "vectorizer = CountVectorizer()\n",
        "X = vectorizer.fit_transform(X)\n",
        "X_balanced = vectorizer.fit_transform(X_balanced)\n",
        "\n",
        "\n",
        "# 3. Tanító- és tesztadatokra felosztás\n",
        "X_train, X_test, y_train, y_test = train_test_split(X, y, test_size=0.2, random_state=42)\n",
        "X_balanced_train, X_balanced_test, y_balanced_train, y_balanced_test = train_test_split(X_balanced, y_balanced, test_size=0.2, random_state=42)\n",
        "\n"
      ],
      "metadata": {
        "id": "O63CZMcZzShQ"
      },
      "execution_count": null,
      "outputs": []
    },
    {
      "cell_type": "code",
      "source": [
        "import pandas as pd\n",
        "\n",
        "# Tegyük fel, hogy df a DataFrame, amiben van a 'username' és 'approved' oszlop\n",
        "# Itt feltételezem, hogy a 'approved' oszlop értékei 0 vagy 1, ahol 1 az 'approved' és 0 a nem jóváhagyott felhasználót jelöli\n",
        "\n",
        "# Készítsük el az instruction, input és output oszlopokat a DataFrame-ből\n",
        "df['instruction'] = \"Decide if the username is approvable or not\"\n",
        "df['input'] = df['Username']\n",
        "df['output'] = df['Label'].apply(lambda x: \"approved\" if x == 1 else \"not approved\")\n",
        "\n",
        "# Válaszd ki az instruction, input és output oszlopokat és konvertáld JSON formátumba\n",
        "json_data = df[['instruction', 'input', 'output']].to_json(orient='records')\n",
        "\n",
        "# Mentsd el a JSON adatokat egy fájlba\n",
        "with open('/content/drive/My Drive/Colab Notebooks/dataset.json', 'w') as f:\n",
        "    f.write(json_data)\n",
        "\n",
        "print(\"JSON file successfully created!\")\n"
      ],
      "metadata": {
        "colab": {
          "base_uri": "https://localhost:8080/"
        },
        "id": "I4b7PkD10oHD",
        "outputId": "ae6fdb65-8c5f-40ff-c61e-adfa94e153af"
      },
      "execution_count": null,
      "outputs": [
        {
          "output_type": "stream",
          "name": "stdout",
          "text": [
            "JSON file successfully created!\n"
          ]
        }
      ]
    },
    {
      "cell_type": "code",
      "source": [
        "from sklearn.metrics import accuracy_score, confusion_matrix, classification_report\n",
        "\n",
        "def print_score(clf, X_train, y_train, X_test, y_test, train=True):\n",
        "    if train:\n",
        "        pred = clf.predict(X_train)\n",
        "        clf_report = pd.DataFrame(classification_report(y_train, pred, output_dict=True))\n",
        "        print(\"Train Result:\\n================================================\")\n",
        "        print(f\"Accuracy Score: {accuracy_score(y_train, pred) * 100:.2f}%\")\n",
        "        print(\"_______________________________________________\")\n",
        "        print(f\"CLASSIFICATION REPORT:\\n{clf_report}\")\n",
        "        print(\"_______________________________________________\")\n",
        "        print(f\"Confusion Matrix: \\n {confusion_matrix(y_train, pred)}\\n\")\n",
        "\n",
        "    elif train==False:\n",
        "        pred = clf.predict(X_test)\n",
        "        clf_report = pd.DataFrame(classification_report(y_test, pred, output_dict=True))\n",
        "        print(\"Test Result:\\n================================================\")\n",
        "        print(f\"Accuracy Score: {accuracy_score(y_test, pred) * 100:.2f}%\")\n",
        "        print(\"_______________________________________________\")\n",
        "        print(f\"CLASSIFICATION REPORT:\\n{clf_report}\")\n",
        "        print(\"_______________________________________________\")\n",
        "        print(f\"Confusion Matrix: \\n {confusion_matrix(y_test, pred)}\\n\")"
      ],
      "metadata": {
        "id": "Nb6jCMtaQNMJ"
      },
      "execution_count": null,
      "outputs": []
    },
    {
      "cell_type": "code",
      "source": [
        "svm_classifier = SVC(C=0.1, kernel='linear')\n",
        "svm_classifier.fit(X_train, y_train)\n",
        "\n",
        "with open('/content/drive/My Drive/Colab Notebooks/low_level_models/svm.pkl', 'wb') as f:\n",
        "    pickle.dump(svm_classifier, f)\n",
        "\n",
        "print_score(svm_classifier, X_train, y_train, X_test, y_test, train=True)\n",
        "print_score(svm_classifier, X_train, y_train, X_test, y_test, train=False)\n"
      ],
      "metadata": {
        "colab": {
          "base_uri": "https://localhost:8080/"
        },
        "id": "xtugCvWH7grW",
        "outputId": "b0b73feb-182e-4dfa-c4d9-2548bae64a4a"
      },
      "execution_count": null,
      "outputs": [
        {
          "output_type": "stream",
          "name": "stderr",
          "text": [
            "/usr/local/lib/python3.10/dist-packages/sklearn/metrics/_classification.py:1344: UndefinedMetricWarning: Precision and F-score are ill-defined and being set to 0.0 in labels with no predicted samples. Use `zero_division` parameter to control this behavior.\n",
            "  _warn_prf(average, modifier, msg_start, len(result))\n",
            "/usr/local/lib/python3.10/dist-packages/sklearn/metrics/_classification.py:1344: UndefinedMetricWarning: Precision and F-score are ill-defined and being set to 0.0 in labels with no predicted samples. Use `zero_division` parameter to control this behavior.\n",
            "  _warn_prf(average, modifier, msg_start, len(result))\n",
            "/usr/local/lib/python3.10/dist-packages/sklearn/metrics/_classification.py:1344: UndefinedMetricWarning: Precision and F-score are ill-defined and being set to 0.0 in labels with no predicted samples. Use `zero_division` parameter to control this behavior.\n",
            "  _warn_prf(average, modifier, msg_start, len(result))\n"
          ]
        },
        {
          "output_type": "stream",
          "name": "stdout",
          "text": [
            "Train Result:\n",
            "================================================\n",
            "Accuracy Score: 89.74%\n",
            "_______________________________________________\n",
            "CLASSIFICATION REPORT:\n",
            "                0            1  accuracy     macro avg  weighted avg\n",
            "precision     0.0     0.897446  0.897446      0.448723      0.805409\n",
            "recall        0.0     1.000000  0.897446      0.500000      0.897446\n",
            "f1-score      0.0     0.945952  0.897446      0.472976      0.848940\n",
            "support    1044.0  9136.000000  0.897446  10180.000000  10180.000000\n",
            "_______________________________________________\n",
            "Confusion Matrix: \n",
            " [[   0 1044]\n",
            " [   0 9136]]\n",
            "\n",
            "Test Result:\n",
            "================================================\n",
            "Accuracy Score: 89.98%\n",
            "_______________________________________________\n",
            "CLASSIFICATION REPORT:\n",
            "               0            1  accuracy    macro avg  weighted avg\n",
            "precision    0.0     0.899843  0.899843     0.449921      0.809717\n",
            "recall       0.0     1.000000  0.899843     0.500000      0.899843\n",
            "f1-score     0.0     0.947281  0.899843     0.473641      0.852404\n",
            "support    255.0  2291.000000  0.899843  2546.000000   2546.000000\n",
            "_______________________________________________\n",
            "Confusion Matrix: \n",
            " [[   0  255]\n",
            " [   0 2291]]\n",
            "\n"
          ]
        },
        {
          "output_type": "stream",
          "name": "stderr",
          "text": [
            "/usr/local/lib/python3.10/dist-packages/sklearn/metrics/_classification.py:1344: UndefinedMetricWarning: Precision and F-score are ill-defined and being set to 0.0 in labels with no predicted samples. Use `zero_division` parameter to control this behavior.\n",
            "  _warn_prf(average, modifier, msg_start, len(result))\n",
            "/usr/local/lib/python3.10/dist-packages/sklearn/metrics/_classification.py:1344: UndefinedMetricWarning: Precision and F-score are ill-defined and being set to 0.0 in labels with no predicted samples. Use `zero_division` parameter to control this behavior.\n",
            "  _warn_prf(average, modifier, msg_start, len(result))\n",
            "/usr/local/lib/python3.10/dist-packages/sklearn/metrics/_classification.py:1344: UndefinedMetricWarning: Precision and F-score are ill-defined and being set to 0.0 in labels with no predicted samples. Use `zero_division` parameter to control this behavior.\n",
            "  _warn_prf(average, modifier, msg_start, len(result))\n"
          ]
        }
      ]
    },
    {
      "cell_type": "code",
      "source": [
        "svm_balanced_classifier = SVC(C=0.1, kernel='rbf')\n",
        "svm_balanced_classifier.fit(X_balanced_train, y_balanced_train)\n",
        "\n",
        "with open('/content/drive/My Drive/Colab Notebooks/low_level_models/svm_balanced.pkl', 'wb') as f:\n",
        "    pickle.dump(svm_balanced_classifier, f)\n",
        "\n",
        "print_score(svm_balanced_classifier, X_balanced_train, y_balanced_train, X_balanced_test, y_balanced_test, train=True)\n",
        "print_score(svm_balanced_classifier, X_balanced_train, y_balanced_train, X_balanced_test, y_balanced_test, train=False)"
      ],
      "metadata": {
        "id": "v4qPes8ewWPl",
        "colab": {
          "base_uri": "https://localhost:8080/"
        },
        "outputId": "8ac1ae76-f574-43d9-b940-f2721f14c1f0"
      },
      "execution_count": null,
      "outputs": [
        {
          "output_type": "stream",
          "name": "stdout",
          "text": [
            "Train Result:\n",
            "================================================\n",
            "Accuracy Score: 63.72%\n",
            "_______________________________________________\n",
            "CLASSIFICATION REPORT:\n",
            "                     0            1  accuracy    macro avg  weighted avg\n",
            "precision     0.776892     0.592640  0.637151     0.684766      0.684145\n",
            "recall        0.377907     0.892925  0.637151     0.635416      0.637151\n",
            "f1-score      0.508475     0.712433  0.637151     0.610454      0.611141\n",
            "support    1032.000000  1046.000000  0.637151  2078.000000   2078.000000\n",
            "_______________________________________________\n",
            "Confusion Matrix: \n",
            " [[390 642]\n",
            " [112 934]]\n",
            "\n",
            "Test Result:\n",
            "================================================\n",
            "Accuracy Score: 52.88%\n",
            "_______________________________________________\n",
            "CLASSIFICATION REPORT:\n",
            "                    0           1  accuracy   macro avg  weighted avg\n",
            "precision    0.696429    0.508621  0.528846    0.602525      0.605053\n",
            "recall       0.146067    0.932806  0.528846    0.539437      0.528846\n",
            "f1-score     0.241486    0.658298  0.528846    0.449892      0.444281\n",
            "support    267.000000  253.000000  0.528846  520.000000    520.000000\n",
            "_______________________________________________\n",
            "Confusion Matrix: \n",
            " [[ 39 228]\n",
            " [ 17 236]]\n",
            "\n"
          ]
        }
      ]
    },
    {
      "cell_type": "code",
      "source": [
        "rf_classifier = RandomForestClassifier(max_depth=None, min_samples_leaf=4, min_samples_split=2, n_estimators=100)\n",
        "rf_classifier.fit(X_train, y_train)\n",
        "\n",
        "with open('/content/drive/My Drive/Colab Notebooks/low_level_models/rfc.pkl', 'wb') as f:\n",
        "    pickle.dump(rf_classifier, f)\n",
        "\n",
        "print_score(rf_classifier, X_train, y_train, X_test, y_test, train=True)\n",
        "print_score(rf_classifier, X_train, y_train, X_test, y_test, train=False)"
      ],
      "metadata": {
        "colab": {
          "base_uri": "https://localhost:8080/"
        },
        "id": "EGMRebDmKiHg",
        "outputId": "4178e333-9397-4398-d020-bf049d6231a4"
      },
      "execution_count": null,
      "outputs": [
        {
          "output_type": "stream",
          "name": "stdout",
          "text": [
            "Train Result:\n",
            "================================================\n",
            "Accuracy Score: 89.74%\n",
            "_______________________________________________\n",
            "CLASSIFICATION REPORT:\n",
            "                0            1  accuracy     macro avg  weighted avg\n",
            "precision     0.0     0.897446  0.897446      0.448723      0.805409\n",
            "recall        0.0     1.000000  0.897446      0.500000      0.897446\n",
            "f1-score      0.0     0.945952  0.897446      0.472976      0.848940\n",
            "support    1044.0  9136.000000  0.897446  10180.000000  10180.000000\n",
            "_______________________________________________\n",
            "Confusion Matrix: \n",
            " [[   0 1044]\n",
            " [   0 9136]]\n",
            "\n",
            "Test Result:\n",
            "================================================\n",
            "Accuracy Score: 89.98%\n",
            "_______________________________________________\n",
            "CLASSIFICATION REPORT:\n",
            "               0            1  accuracy    macro avg  weighted avg\n",
            "precision    0.0     0.899843  0.899843     0.449921      0.809717\n",
            "recall       0.0     1.000000  0.899843     0.500000      0.899843\n",
            "f1-score     0.0     0.947281  0.899843     0.473641      0.852404\n",
            "support    255.0  2291.000000  0.899843  2546.000000   2546.000000\n",
            "_______________________________________________\n",
            "Confusion Matrix: \n",
            " [[   0  255]\n",
            " [   0 2291]]\n",
            "\n"
          ]
        },
        {
          "output_type": "stream",
          "name": "stderr",
          "text": [
            "/usr/local/lib/python3.10/dist-packages/sklearn/metrics/_classification.py:1344: UndefinedMetricWarning: Precision and F-score are ill-defined and being set to 0.0 in labels with no predicted samples. Use `zero_division` parameter to control this behavior.\n",
            "  _warn_prf(average, modifier, msg_start, len(result))\n",
            "/usr/local/lib/python3.10/dist-packages/sklearn/metrics/_classification.py:1344: UndefinedMetricWarning: Precision and F-score are ill-defined and being set to 0.0 in labels with no predicted samples. Use `zero_division` parameter to control this behavior.\n",
            "  _warn_prf(average, modifier, msg_start, len(result))\n",
            "/usr/local/lib/python3.10/dist-packages/sklearn/metrics/_classification.py:1344: UndefinedMetricWarning: Precision and F-score are ill-defined and being set to 0.0 in labels with no predicted samples. Use `zero_division` parameter to control this behavior.\n",
            "  _warn_prf(average, modifier, msg_start, len(result))\n",
            "/usr/local/lib/python3.10/dist-packages/sklearn/metrics/_classification.py:1344: UndefinedMetricWarning: Precision and F-score are ill-defined and being set to 0.0 in labels with no predicted samples. Use `zero_division` parameter to control this behavior.\n",
            "  _warn_prf(average, modifier, msg_start, len(result))\n",
            "/usr/local/lib/python3.10/dist-packages/sklearn/metrics/_classification.py:1344: UndefinedMetricWarning: Precision and F-score are ill-defined and being set to 0.0 in labels with no predicted samples. Use `zero_division` parameter to control this behavior.\n",
            "  _warn_prf(average, modifier, msg_start, len(result))\n",
            "/usr/local/lib/python3.10/dist-packages/sklearn/metrics/_classification.py:1344: UndefinedMetricWarning: Precision and F-score are ill-defined and being set to 0.0 in labels with no predicted samples. Use `zero_division` parameter to control this behavior.\n",
            "  _warn_prf(average, modifier, msg_start, len(result))\n"
          ]
        }
      ]
    },
    {
      "cell_type": "code",
      "source": [
        "rf_balanced_classifier = RandomForestClassifier(max_depth=None, min_samples_leaf=1, min_samples_split=10, n_estimators=300)\n",
        "rf_balanced_classifier.fit(X_balanced_train, y_balanced_train)\n",
        "\n",
        "with open('/content/drive/My Drive/Colab Notebooks/low_level_models/rfc_balanced.pkl', 'wb') as f:\n",
        "    pickle.dump(rf_balanced_classifier, f)\n",
        "\n",
        "print_score(rf_balanced_classifier, X_balanced_train, y_balanced_train, X_balanced_test, y_balanced_test, train=True)\n",
        "print_score(rf_balanced_classifier, X_balanced_train, y_balanced_train, X_balanced_test, y_balanced_test, train=False)"
      ],
      "metadata": {
        "id": "yBezTEMJwoeW",
        "colab": {
          "base_uri": "https://localhost:8080/"
        },
        "outputId": "a1d8eb45-b2e0-4f01-e050-5a4de9018c68"
      },
      "execution_count": null,
      "outputs": [
        {
          "output_type": "stream",
          "name": "stdout",
          "text": [
            "Train Result:\n",
            "================================================\n",
            "Accuracy Score: 98.65%\n",
            "_______________________________________________\n",
            "CLASSIFICATION REPORT:\n",
            "                     0            1  accuracy    macro avg  weighted avg\n",
            "precision     0.993124     0.980189  0.986526     0.986656      0.986613\n",
            "recall        0.979651     0.993308  0.986526     0.986480      0.986526\n",
            "f1-score      0.986341     0.986705  0.986526     0.986523      0.986524\n",
            "support    1032.000000  1046.000000  0.986526  2078.000000   2078.000000\n",
            "_______________________________________________\n",
            "Confusion Matrix: \n",
            " [[1011   21]\n",
            " [   7 1039]]\n",
            "\n",
            "Test Result:\n",
            "================================================\n",
            "Accuracy Score: 52.12%\n",
            "_______________________________________________\n",
            "CLASSIFICATION REPORT:\n",
            "                    0           1  accuracy   macro avg  weighted avg\n",
            "precision    0.625000    0.504464  0.521154    0.564732      0.566355\n",
            "recall       0.168539    0.893281  0.521154    0.530910      0.521154\n",
            "f1-score     0.265487    0.644793  0.521154    0.455140      0.450034\n",
            "support    267.000000  253.000000  0.521154  520.000000    520.000000\n",
            "_______________________________________________\n",
            "Confusion Matrix: \n",
            " [[ 45 222]\n",
            " [ 27 226]]\n",
            "\n"
          ]
        }
      ]
    },
    {
      "cell_type": "code",
      "source": [
        "mlp_classifier = MLPClassifier(activation='relu', alpha= 0.0001, learning_rate='constant', solver='sgd')\n",
        "mlp_classifier.fit(X_train, y_train)\n",
        "\n",
        "with open('/content/drive/My Drive/Colab Notebooks/low_level_models/mlp.pkl', 'wb') as f:\n",
        "    pickle.dump(mlp_classifier, f)\n",
        "\n",
        "print_score(rf_classifier, X_train, y_train, X_test, y_test, train=True)\n",
        "print_score(rf_classifier, X_train, y_train, X_test, y_test, train=False)"
      ],
      "metadata": {
        "colab": {
          "base_uri": "https://localhost:8080/"
        },
        "id": "Hiwz-6kBjD8I",
        "outputId": "3475b185-f9c7-4619-8cec-e37288095790"
      },
      "execution_count": null,
      "outputs": [
        {
          "output_type": "stream",
          "name": "stdout",
          "text": [
            "Train Result:\n",
            "================================================\n",
            "Accuracy Score: 89.74%\n",
            "_______________________________________________\n",
            "CLASSIFICATION REPORT:\n",
            "                0            1  accuracy     macro avg  weighted avg\n",
            "precision     0.0     0.897446  0.897446      0.448723      0.805409\n",
            "recall        0.0     1.000000  0.897446      0.500000      0.897446\n",
            "f1-score      0.0     0.945952  0.897446      0.472976      0.848940\n",
            "support    1044.0  9136.000000  0.897446  10180.000000  10180.000000\n",
            "_______________________________________________\n",
            "Confusion Matrix: \n",
            " [[   0 1044]\n",
            " [   0 9136]]\n",
            "\n",
            "Test Result:\n",
            "================================================\n",
            "Accuracy Score: 89.98%\n",
            "_______________________________________________\n",
            "CLASSIFICATION REPORT:\n",
            "               0            1  accuracy    macro avg  weighted avg\n",
            "precision    0.0     0.899843  0.899843     0.449921      0.809717\n",
            "recall       0.0     1.000000  0.899843     0.500000      0.899843\n",
            "f1-score     0.0     0.947281  0.899843     0.473641      0.852404\n",
            "support    255.0  2291.000000  0.899843  2546.000000   2546.000000\n",
            "_______________________________________________\n",
            "Confusion Matrix: \n",
            " [[   0  255]\n",
            " [   0 2291]]\n",
            "\n"
          ]
        },
        {
          "output_type": "stream",
          "name": "stderr",
          "text": [
            "/usr/local/lib/python3.10/dist-packages/sklearn/metrics/_classification.py:1344: UndefinedMetricWarning: Precision and F-score are ill-defined and being set to 0.0 in labels with no predicted samples. Use `zero_division` parameter to control this behavior.\n",
            "  _warn_prf(average, modifier, msg_start, len(result))\n",
            "/usr/local/lib/python3.10/dist-packages/sklearn/metrics/_classification.py:1344: UndefinedMetricWarning: Precision and F-score are ill-defined and being set to 0.0 in labels with no predicted samples. Use `zero_division` parameter to control this behavior.\n",
            "  _warn_prf(average, modifier, msg_start, len(result))\n",
            "/usr/local/lib/python3.10/dist-packages/sklearn/metrics/_classification.py:1344: UndefinedMetricWarning: Precision and F-score are ill-defined and being set to 0.0 in labels with no predicted samples. Use `zero_division` parameter to control this behavior.\n",
            "  _warn_prf(average, modifier, msg_start, len(result))\n",
            "/usr/local/lib/python3.10/dist-packages/sklearn/metrics/_classification.py:1344: UndefinedMetricWarning: Precision and F-score are ill-defined and being set to 0.0 in labels with no predicted samples. Use `zero_division` parameter to control this behavior.\n",
            "  _warn_prf(average, modifier, msg_start, len(result))\n",
            "/usr/local/lib/python3.10/dist-packages/sklearn/metrics/_classification.py:1344: UndefinedMetricWarning: Precision and F-score are ill-defined and being set to 0.0 in labels with no predicted samples. Use `zero_division` parameter to control this behavior.\n",
            "  _warn_prf(average, modifier, msg_start, len(result))\n",
            "/usr/local/lib/python3.10/dist-packages/sklearn/metrics/_classification.py:1344: UndefinedMetricWarning: Precision and F-score are ill-defined and being set to 0.0 in labels with no predicted samples. Use `zero_division` parameter to control this behavior.\n",
            "  _warn_prf(average, modifier, msg_start, len(result))\n"
          ]
        }
      ]
    },
    {
      "cell_type": "code",
      "source": [
        "mlp_balanced_classifier = MLPClassifier(activation='relu', alpha=0.0001, learning_rate='constant', solver='adam')\n",
        "mlp_balanced_classifier.fit(X_balanced_train, y_balanced_train)\n",
        "\n",
        "with open('/content/drive/My Drive/Colab Notebooks/low_level_models/mlp_balanced.pkl', 'wb') as f:\n",
        "    pickle.dump(mlp_balanced_classifier, f)\n",
        "\n",
        "print_score(rf_balanced_classifier, X_balanced_train, y_balanced_train, X_balanced_test, y_balanced_test, train=True)\n",
        "print_score(rf_balanced_classifier, X_balanced_train, y_balanced_train, X_balanced_test, y_balanced_test, train=False)"
      ],
      "metadata": {
        "id": "yxesbxqBxpa8",
        "colab": {
          "base_uri": "https://localhost:8080/"
        },
        "outputId": "ee3a6a88-3e6e-4ba1-fab0-20be9d5584b1"
      },
      "execution_count": null,
      "outputs": [
        {
          "output_type": "stream",
          "name": "stdout",
          "text": [
            "Train Result:\n",
            "================================================\n",
            "Accuracy Score: 98.65%\n",
            "_______________________________________________\n",
            "CLASSIFICATION REPORT:\n",
            "                     0            1  accuracy    macro avg  weighted avg\n",
            "precision     0.993124     0.980189  0.986526     0.986656      0.986613\n",
            "recall        0.979651     0.993308  0.986526     0.986480      0.986526\n",
            "f1-score      0.986341     0.986705  0.986526     0.986523      0.986524\n",
            "support    1032.000000  1046.000000  0.986526  2078.000000   2078.000000\n",
            "_______________________________________________\n",
            "Confusion Matrix: \n",
            " [[1011   21]\n",
            " [   7 1039]]\n",
            "\n",
            "Test Result:\n",
            "================================================\n",
            "Accuracy Score: 52.12%\n",
            "_______________________________________________\n",
            "CLASSIFICATION REPORT:\n",
            "                    0           1  accuracy   macro avg  weighted avg\n",
            "precision    0.625000    0.504464  0.521154    0.564732      0.566355\n",
            "recall       0.168539    0.893281  0.521154    0.530910      0.521154\n",
            "f1-score     0.265487    0.644793  0.521154    0.455140      0.450034\n",
            "support    267.000000  253.000000  0.521154  520.000000    520.000000\n",
            "_______________________________________________\n",
            "Confusion Matrix: \n",
            " [[ 45 222]\n",
            " [ 27 226]]\n",
            "\n"
          ]
        }
      ]
    }
  ]
}